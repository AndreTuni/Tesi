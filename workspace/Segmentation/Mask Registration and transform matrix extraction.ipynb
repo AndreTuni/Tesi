{
 "cells": [
  {
   "cell_type": "markdown",
   "id": "dffaa182",
   "metadata": {},
   "source": [
    "## Performing Image Registration on segmentation masks and extracting transformmatrix\n"
   ]
  },
  {
   "cell_type": "code",
   "execution_count": 2,
   "id": "fefb2044",
   "metadata": {},
   "outputs": [],
   "source": [
    "#%matplotlib notebook\n",
    "import os\n",
    "import pyelastix\n",
    "from PIL import Image\n",
    "import numpy as np \n",
    "import cv2\n",
    "import json\n",
    "import pydicom\n",
    "import SimpleITK as sitk\n",
    "from os import path\n",
    "from matplotlib import pyplot as plt\n",
    "from matplotlib import image as mpimg\n",
    "\n",
    "\n",
    "input_path ='./Masks/'\n",
    "ref_path = './Reference/Reference_Mask.png'"
   ]
  },
  {
   "cell_type": "markdown",
   "id": "141529b8",
   "metadata": {},
   "source": [
    "## Functions"
   ]
  },
  {
   "cell_type": "code",
   "execution_count": 3,
   "id": "e53bf732",
   "metadata": {},
   "outputs": [],
   "source": [
    "# creates a new folder if it does not already exist\n",
    "def new_dir(dirName):\n",
    "    try:\n",
    "        os.mkdir(dirName)\n",
    "        print(\"Directory \" , dirName ,  \" Created \") \n",
    "    except FileExistsError:\n",
    "        print(\"Directory \" , dirName ,  \" already exists\")\n",
    "\n",
    "# target and reference are assumed numpy arrays of image files of the same resolution\n",
    "def registration(target, reference, t):\n",
    "    \n",
    "    #internal elastix parameters\n",
    "    params = pyelastix.get_default_params(type=t) #RIGID, AFFINE, BSPLINE\n",
    "    params.NumberOfResolutions = 8\n",
    "    params.AutomaticTransformInitialization = True\n",
    "    params.AutomaticScalesEstimation = False\n",
    "    params.NumberOfHistogramBins = 64\n",
    "    params.MaximumStepLength = 4.0\n",
    "    params.MaximumNumberOfIterations = 500\n",
    "\n",
    "    registered, field = pyelastix.register(target, reference, params, verbose=0)\n",
    "    return registered, field\n",
    "\n",
    "def new_registration(target, reference, t):\n",
    "    \n",
    "    fixedImage = sitk.ReadImage(reference)\n",
    "    movingImage = sitk.ReadImage(target)\n",
    "    parameterMap = sitk.GetDefaultParameterMap(t)\n",
    "\n",
    "    elastixImageFilter = sitk.ElastixImageFilter()\n",
    "    elastixImageFilter.SetFixedImage(fixedImage)\n",
    "    elastixImageFilter.SetMovingImage(movingImage)\n",
    "    elastixImageFilter.SetParameterMap(parameterMap)\n",
    "    elastixImageFilter.Execute()\n",
    "    \n",
    "    resultImage = elastixImageFilter.GetResultImage()\n",
    "    transformParameterMap = elastixImageFilter.GetTransformParameterMap()\n",
    "\n",
    "    return resultImage, transformParameterMap\n",
    "  "
   ]
  },
  {
   "cell_type": "markdown",
   "id": "a1773dc1",
   "metadata": {},
   "source": [
    "## Execution Pipeline \n",
    "\n"
   ]
  },
  {
   "cell_type": "markdown",
   "id": "87301e1b",
   "metadata": {},
   "source": [
    "### Affine Registrations"
   ]
  },
  {
   "cell_type": "code",
   "execution_count": 6,
   "id": "1ed12e50",
   "metadata": {},
   "outputs": [
    {
     "name": "stdout",
     "output_type": "stream",
     "text": [
      "Directory  Pngs  already exists\n",
      "Directory  Registered_with_PyElastix  already exists\n",
      "Directory  Registered_Masks  already exists\n"
     ]
    },
    {
     "ename": "AttributeError",
     "evalue": "'tuple' object has no attribute 'shape'",
     "output_type": "error",
     "traceback": [
      "\u001b[1;31m---------------------------------------------------------------------------\u001b[0m",
      "\u001b[1;31mAttributeError\u001b[0m                            Traceback (most recent call last)",
      "\u001b[1;32m<timed exec>\u001b[0m in \u001b[0;36m<module>\u001b[1;34m\u001b[0m\n",
      "\u001b[1;31mAttributeError\u001b[0m: 'tuple' object has no attribute 'shape'"
     ]
    }
   ],
   "source": [
    "%%time\n",
    "new_dir(\"Pngs\")\n",
    "new_dir(\"Registered_with_PyElastix\")\n",
    "new_dir(\"Registered_Masks\")\n",
    "\n",
    "reference = np.asarray(Image.open(ref_path)).astype(float)\n",
    "filename = \"test_file_1_Mask.png\"\n",
    "path = os.path.join(input_path, filename)\n",
    "target = np.asarray(Image.open(path)).astype(float)\n",
    "path2 = os.path.join('Registered_Masks', filename) \n",
    "r, f = registration(target, reference,\"AFFINE\")\n",
    "\n",
    "#print(f.size)\n",
    "print(f.shape)\n",
    "\n",
    "ret, r = cv2.threshold(r, 120, 255, cv2.THRESH_BINARY)\n",
    "\n",
    "plt.figure(figsize=(20, 18))\n",
    "plt.subplot(3, 3, 1)\n",
    "plt.title('Reference')\n",
    "plt.imshow(reference, cmap='gray')\n",
    "plt.subplot(3, 3, 2)\n",
    "plt.title('Moving Image')\n",
    "plt.imshow(target, cmap='gray')\n",
    "plt.subplot(3, 3, 3)\n",
    "plt.title('Registered Mask')\n",
    "plt.imshow(r, cmap='gray')\n",
    "result = Image.fromarray(r)\n",
    "result.convert('P').save(path2.replace('.png','_AFFINE.png'), 'PNG')\n",
    "    "
   ]
  },
  {
   "cell_type": "code",
   "execution_count": 10,
   "id": "01b92e14",
   "metadata": {},
   "outputs": [
    {
     "name": "stdout",
     "output_type": "stream",
     "text": [
      "[-4.3699784 -4.3495226 -4.3290663 -4.3086104 -4.2881546 -4.2676983\n",
      " -4.2472425 -4.2267866 -4.2063303 -4.1858745 -4.1654186 -4.1449623\n",
      " -4.1245065 -4.1040506 -4.0835943 -4.0631385 -4.0426826 -4.0222263\n",
      " -4.0017705 -3.9813144 -3.9608586 -3.9404025 -3.9199464 -3.8994906\n",
      " -3.8790345 -3.8585784 -3.8381226 -3.8176665 -3.7972105 -3.7767546\n",
      " -3.7562985 -3.7358425 -3.7153864 -3.6949306 -3.6744745 -3.6540184\n",
      " -3.6335626 -3.6131065 -3.5926504 -3.5721946 -3.5517385 -3.5312824\n",
      " -3.5108266 -3.4903705 -3.4699144 -3.4494586 -3.4290025 -3.4085464\n",
      " -3.3880906 -3.3676345 -3.3471785 -3.3267224 -3.3062665 -3.2858105\n",
      " -3.2653544 -3.2448986 -3.2244425 -3.2039864 -3.1835306 -3.1630745\n",
      " -3.1426184 -3.1221626 -3.1017065 -3.0812504 -3.0607946 -3.0403385\n",
      " -3.0198824 -2.9994266 -2.9789705 -2.9585145 -2.9380586 -2.9176025\n",
      " -2.8971465 -2.8766904 -2.8562346 -2.8357785 -2.8153224 -2.7948666\n",
      " -2.7744105 -2.7539544 -2.7334986 -2.7130425 -2.6925864 -2.6721306\n",
      " -2.6516745 -2.6312184 -2.6107626 -2.5903065 -2.5698504 -2.5493946\n",
      " -2.5289385 -2.5084825 -2.4880266 -2.4675705 -2.4471145 -2.4266584\n",
      " -2.4062026 -2.3857465 -2.3652904 -2.3448346 -2.3243785 -2.3039224\n",
      " -2.2834666 -2.2630105 -2.2425544 -2.2220986 -2.2016425 -2.1811864\n",
      " -2.1607306 -2.1402745 -2.1198184 -2.0993626 -2.0789065 -2.0584505\n",
      " -2.0379944 -2.0175385 -1.9970825 -1.9766265 -1.9561706 -1.9357145\n",
      " -1.9152585 -1.8948025 -1.8743465 -1.8538905 -1.8334345 -1.8129785\n",
      " -1.7925225 -1.7720665 -1.7516105 -1.7311544 -1.7106985 -1.6902425\n",
      " -1.6697865 -1.6493305 -1.6288745 -1.6084185 -1.5879625 -1.5675066\n",
      " -1.5470505 -1.5265945 -1.5061384 -1.4856825 -1.4652265 -1.4447705\n",
      " -1.4243145 -1.4038585 -1.3834025 -1.3629465 -1.3424906 -1.3220345\n",
      " -1.3015785 -1.2811224 -1.2606665 -1.2402105 -1.2197545 -1.1992985\n",
      " -1.1788425 -1.1583865 -1.1379305 -1.1174746 -1.0970185 -1.0765625\n",
      " -1.0561064 -1.0356505 -1.0151945 -0.9947385 -0.9742825 -0.9538265\n",
      " -0.9333705 -0.9129145 -0.8924585 -0.8720025 -0.8515465 -0.8310905\n",
      " -0.8106345 -0.7901785 -0.7697225 -0.7492665 -0.7288105 -0.7083545\n",
      " -0.6878985 -0.6674425 -0.6469865 -0.6265305 -0.6060745 -0.5856185\n",
      " -0.5651625 -0.5447065 -0.5242505 -0.5037945 -0.4833385 -0.4628825\n",
      " -0.4424265 -0.4219705 -0.4015145 -0.3810585 -0.3606025 -0.3401465\n",
      " -0.3196905 -0.2992345 -0.2787785 -0.2583225 -0.2378665 -0.2174105\n",
      " -0.1969545 -0.1764985 -0.1560425 -0.1355865 -0.1151305 -0.0946745\n",
      " -0.0742185 -0.0537625 -0.0333065 -0.0128505  0.0076055  0.0280615\n",
      "  0.0485175  0.0689735  0.0894295  0.1098855  0.1303415  0.1507975\n",
      "  0.1712535  0.1917095  0.2121655  0.2326215  0.2530775  0.2735335\n",
      "  0.2939895  0.3144455  0.3349015  0.3553575  0.3758135  0.3962695\n",
      "  0.4167255  0.4371815  0.4576375  0.4780935  0.4985495  0.5190055\n",
      "  0.5394615  0.5599175  0.5803735  0.6008295  0.6212855  0.6417415\n",
      "  0.6621975  0.6826535  0.7031095  0.7235655  0.7440215  0.7644775\n",
      "  0.7849335  0.8053895  0.8258455  0.8463015]\n"
     ]
    }
   ],
   "source": [
    "print(f[1][5])\n",
    "\n",
    "\n"
   ]
  },
  {
   "cell_type": "code",
   "execution_count": 5,
   "id": "90f7f699",
   "metadata": {},
   "outputs": [
    {
     "name": "stdout",
     "output_type": "stream",
     "text": [
      "Directory  Pngs  already exists\n",
      "Directory  Registered_with_PyElastix  already exists\n",
      "Directory  Registered_Masks  already exists\n"
     ]
    },
    {
     "ename": "AttributeError",
     "evalue": "module 'SimpleITK' has no attribute 'GetDefaultParameterMap'",
     "output_type": "error",
     "traceback": [
      "\u001b[1;31m---------------------------------------------------------------------------\u001b[0m",
      "\u001b[1;31mAttributeError\u001b[0m                            Traceback (most recent call last)",
      "\u001b[1;32m<timed exec>\u001b[0m in \u001b[0;36m<module>\u001b[1;34m\u001b[0m\n",
      "\u001b[1;31mAttributeError\u001b[0m: module 'SimpleITK' has no attribute 'GetDefaultParameterMap'"
     ]
    }
   ],
   "source": [
    "%%time\n",
    "new_dir(\"Pngs\")\n",
    "new_dir(\"Registered_with_PyElastix\")\n",
    "new_dir(\"Registered_Masks\")\n",
    "\n",
    "#reference = np.asarray(Image.open(ref_path)).astype(float)\n",
    "filename = \"test_file_1_Mask.png\"\n",
    "path = os.path.join(input_path, filename)\n",
    "#target = np.asarray(Image.open(path)).astype(float)\n",
    "path2 = os.path.join('Registered_Masks', filename) \n",
    "\n",
    "#new_r = new_registration(path, ref_path,\"AFFINE\")\n",
    "\n",
    "fixedImage = sitk.ReadImage(ref_path)\n",
    "movingImage = sitk.ReadImage(path)\n",
    "parameterMap = sitk.GetDefaultParameterMap(\"Affine\")\n",
    "\n",
    "elastixImageFilter = sitk.ElastixImageFilter()\n",
    "elastixImageFilter.SetFixedImage(fixedImage)\n",
    "elastixImageFilter.SetMovingImage(movingImage)\n",
    "elastixImageFilter.SetParameterMap(parameterMap)\n",
    "elastixImageFilter.Execute()\n",
    "\n",
    "resultImage = elastixImageFilter.GetResultImage()\n",
    "transformParameterMap = elastixImageFilter.GetTransformParameterMap()\n",
    "\n",
    "ret, new_r = cv2.threshold(new_r, 120, 255, cv2.THRESH_BINARY)\n",
    "\n",
    "\n",
    "plt.figure(figsize=(20, 18))\n",
    "plt.subplot(3, 3, 1)\n",
    "plt.title('Reference')\n",
    "plt.imshow(reference, cmap='gray')\n",
    "plt.subplot(3, 3, 2)\n",
    "plt.title('Moving Image')\n",
    "plt.imshow(target, cmap='gray')\n",
    "plt.subplot(3, 3, 3)\n",
    "plt.title('Registered Mask')\n",
    "plt.imshow(new_r, cmap='gray')\n",
    "result = Image.fromarray(r)\n",
    "result.convert('P').save(path2.replace('.png','_AFFINE_ITK.png'), 'PNG')\n",
    "    "
   ]
  },
  {
   "cell_type": "code",
   "execution_count": null,
   "id": "0faf2211",
   "metadata": {},
   "outputs": [],
   "source": []
  },
  {
   "cell_type": "markdown",
   "id": "48abb1da",
   "metadata": {},
   "source": [
    "## Observations"
   ]
  },
  {
   "cell_type": "code",
   "execution_count": null,
   "id": "84ccae60",
   "metadata": {},
   "outputs": [],
   "source": []
  }
 ],
 "metadata": {
  "kernelspec": {
   "display_name": "Registration",
   "language": "python",
   "name": "registration"
  },
  "language_info": {
   "codemirror_mode": {
    "name": "ipython",
    "version": 3
   },
   "file_extension": ".py",
   "mimetype": "text/x-python",
   "name": "python",
   "nbconvert_exporter": "python",
   "pygments_lexer": "ipython3",
   "version": "3.9.6"
  }
 },
 "nbformat": 4,
 "nbformat_minor": 5
}
