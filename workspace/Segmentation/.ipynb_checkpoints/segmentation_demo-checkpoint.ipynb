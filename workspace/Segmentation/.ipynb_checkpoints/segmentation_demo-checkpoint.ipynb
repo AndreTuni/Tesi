{
 "cells": [
  {
   "cell_type": "code",
   "execution_count": 1,
   "metadata": {},
   "outputs": [
    {
     "name": "stdout",
     "output_type": "stream",
     "text": [
      "Segmentation Models: using `keras` framework.\n"
     ]
    }
   ],
   "source": [
    "import keras\n",
    "import segmentation_models as sm\n",
    "sm.set_framework('tf.keras')\n",
    "sm.framework()\n",
    "import glob\n",
    "import cv2\n",
    "import matplotlib.pyplot as plt\n",
    "import numpy as np\n",
    "from scipy import ndimage\n",
    "from scipy.ndimage import label, generate_binary_structure\n",
    "from PIL import Image\n",
    "\n",
    "import os\n",
    "os.environ[\"CUDA_VISIBLE_DEVICES\"] = \"1\""
   ]
  },
  {
   "cell_type": "markdown",
   "metadata": {},
   "source": [
    "# Parameter"
   ]
  },
  {
   "cell_type": "code",
   "execution_count": 2,
   "metadata": {},
   "outputs": [],
   "source": [
    "IMAGE_SIZE = (256,256,3)\n",
    "\n",
    "path_base_model = './models/'\n",
    "path_base_input = './Pngs/'\n",
    "path_base_output= './Masks/'"
   ]
  },
  {
   "cell_type": "markdown",
   "metadata": {},
   "source": [
    "# Model loads"
   ]
  },
  {
   "cell_type": "code",
   "execution_count": 3,
   "metadata": {},
   "outputs": [
    {
     "ename": "OSError",
     "evalue": "Unable to open file (unable to open file: name = './models/model1.hdf5', errno = 2, error message = 'No such file or directory', flags = 0, o_flags = 0)",
     "output_type": "error",
     "traceback": [
      "\u001b[1;31m---------------------------------------------------------------------------\u001b[0m",
      "\u001b[1;31mOSError\u001b[0m                                   Traceback (most recent call last)",
      "\u001b[1;32m<timed exec>\u001b[0m in \u001b[0;36m<module>\u001b[1;34m\u001b[0m\n",
      "\u001b[1;32m~\\Desktop\\Environments\\Segmentation\\lib\\site-packages\\keras\\engine\\training.py\u001b[0m in \u001b[0;36mload_weights\u001b[1;34m(self, filepath, by_name, skip_mismatch, options)\u001b[0m\n\u001b[0;32m   2352\u001b[0m             'first, then load the weights.')\n\u001b[0;32m   2353\u001b[0m       \u001b[0mself\u001b[0m\u001b[1;33m.\u001b[0m\u001b[0m_assert_weights_created\u001b[0m\u001b[1;33m(\u001b[0m\u001b[1;33m)\u001b[0m\u001b[1;33m\u001b[0m\u001b[1;33m\u001b[0m\u001b[0m\n\u001b[1;32m-> 2354\u001b[1;33m       \u001b[1;32mwith\u001b[0m \u001b[0mh5py\u001b[0m\u001b[1;33m.\u001b[0m\u001b[0mFile\u001b[0m\u001b[1;33m(\u001b[0m\u001b[0mfilepath\u001b[0m\u001b[1;33m,\u001b[0m \u001b[1;34m'r'\u001b[0m\u001b[1;33m)\u001b[0m \u001b[1;32mas\u001b[0m \u001b[0mf\u001b[0m\u001b[1;33m:\u001b[0m\u001b[1;33m\u001b[0m\u001b[1;33m\u001b[0m\u001b[0m\n\u001b[0m\u001b[0;32m   2355\u001b[0m         \u001b[1;32mif\u001b[0m \u001b[1;34m'layer_names'\u001b[0m \u001b[1;32mnot\u001b[0m \u001b[1;32min\u001b[0m \u001b[0mf\u001b[0m\u001b[1;33m.\u001b[0m\u001b[0mattrs\u001b[0m \u001b[1;32mand\u001b[0m \u001b[1;34m'model_weights'\u001b[0m \u001b[1;32min\u001b[0m \u001b[0mf\u001b[0m\u001b[1;33m:\u001b[0m\u001b[1;33m\u001b[0m\u001b[1;33m\u001b[0m\u001b[0m\n\u001b[0;32m   2356\u001b[0m           \u001b[0mf\u001b[0m \u001b[1;33m=\u001b[0m \u001b[0mf\u001b[0m\u001b[1;33m[\u001b[0m\u001b[1;34m'model_weights'\u001b[0m\u001b[1;33m]\u001b[0m\u001b[1;33m\u001b[0m\u001b[1;33m\u001b[0m\u001b[0m\n",
      "\u001b[1;32m~\\Desktop\\Environments\\Segmentation\\lib\\site-packages\\h5py\\_hl\\files.py\u001b[0m in \u001b[0;36m__init__\u001b[1;34m(self, name, mode, driver, libver, userblock_size, swmr, rdcc_nslots, rdcc_nbytes, rdcc_w0, track_order, fs_strategy, fs_persist, fs_threshold, **kwds)\u001b[0m\n\u001b[0;32m    422\u001b[0m             \u001b[1;32mwith\u001b[0m \u001b[0mphil\u001b[0m\u001b[1;33m:\u001b[0m\u001b[1;33m\u001b[0m\u001b[1;33m\u001b[0m\u001b[0m\n\u001b[0;32m    423\u001b[0m                 \u001b[0mfapl\u001b[0m \u001b[1;33m=\u001b[0m \u001b[0mmake_fapl\u001b[0m\u001b[1;33m(\u001b[0m\u001b[0mdriver\u001b[0m\u001b[1;33m,\u001b[0m \u001b[0mlibver\u001b[0m\u001b[1;33m,\u001b[0m \u001b[0mrdcc_nslots\u001b[0m\u001b[1;33m,\u001b[0m \u001b[0mrdcc_nbytes\u001b[0m\u001b[1;33m,\u001b[0m \u001b[0mrdcc_w0\u001b[0m\u001b[1;33m,\u001b[0m \u001b[1;33m**\u001b[0m\u001b[0mkwds\u001b[0m\u001b[1;33m)\u001b[0m\u001b[1;33m\u001b[0m\u001b[1;33m\u001b[0m\u001b[0m\n\u001b[1;32m--> 424\u001b[1;33m                 fid = make_fid(name, mode, userblock_size,\n\u001b[0m\u001b[0;32m    425\u001b[0m                                fapl, fcpl=make_fcpl(track_order=track_order, fs_strategy=fs_strategy,\n\u001b[0;32m    426\u001b[0m                                fs_persist=fs_persist, fs_threshold=fs_threshold),\n",
      "\u001b[1;32m~\\Desktop\\Environments\\Segmentation\\lib\\site-packages\\h5py\\_hl\\files.py\u001b[0m in \u001b[0;36mmake_fid\u001b[1;34m(name, mode, userblock_size, fapl, fcpl, swmr)\u001b[0m\n\u001b[0;32m    188\u001b[0m         \u001b[1;32mif\u001b[0m \u001b[0mswmr\u001b[0m \u001b[1;32mand\u001b[0m \u001b[0mswmr_support\u001b[0m\u001b[1;33m:\u001b[0m\u001b[1;33m\u001b[0m\u001b[1;33m\u001b[0m\u001b[0m\n\u001b[0;32m    189\u001b[0m             \u001b[0mflags\u001b[0m \u001b[1;33m|=\u001b[0m \u001b[0mh5f\u001b[0m\u001b[1;33m.\u001b[0m\u001b[0mACC_SWMR_READ\u001b[0m\u001b[1;33m\u001b[0m\u001b[1;33m\u001b[0m\u001b[0m\n\u001b[1;32m--> 190\u001b[1;33m         \u001b[0mfid\u001b[0m \u001b[1;33m=\u001b[0m \u001b[0mh5f\u001b[0m\u001b[1;33m.\u001b[0m\u001b[0mopen\u001b[0m\u001b[1;33m(\u001b[0m\u001b[0mname\u001b[0m\u001b[1;33m,\u001b[0m \u001b[0mflags\u001b[0m\u001b[1;33m,\u001b[0m \u001b[0mfapl\u001b[0m\u001b[1;33m=\u001b[0m\u001b[0mfapl\u001b[0m\u001b[1;33m)\u001b[0m\u001b[1;33m\u001b[0m\u001b[1;33m\u001b[0m\u001b[0m\n\u001b[0m\u001b[0;32m    191\u001b[0m     \u001b[1;32melif\u001b[0m \u001b[0mmode\u001b[0m \u001b[1;33m==\u001b[0m \u001b[1;34m'r+'\u001b[0m\u001b[1;33m:\u001b[0m\u001b[1;33m\u001b[0m\u001b[1;33m\u001b[0m\u001b[0m\n\u001b[0;32m    192\u001b[0m         \u001b[0mfid\u001b[0m \u001b[1;33m=\u001b[0m \u001b[0mh5f\u001b[0m\u001b[1;33m.\u001b[0m\u001b[0mopen\u001b[0m\u001b[1;33m(\u001b[0m\u001b[0mname\u001b[0m\u001b[1;33m,\u001b[0m \u001b[0mh5f\u001b[0m\u001b[1;33m.\u001b[0m\u001b[0mACC_RDWR\u001b[0m\u001b[1;33m,\u001b[0m \u001b[0mfapl\u001b[0m\u001b[1;33m=\u001b[0m\u001b[0mfapl\u001b[0m\u001b[1;33m)\u001b[0m\u001b[1;33m\u001b[0m\u001b[1;33m\u001b[0m\u001b[0m\n",
      "\u001b[1;32mh5py\\_objects.pyx\u001b[0m in \u001b[0;36mh5py._objects.with_phil.wrapper\u001b[1;34m()\u001b[0m\n",
      "\u001b[1;32mh5py\\_objects.pyx\u001b[0m in \u001b[0;36mh5py._objects.with_phil.wrapper\u001b[1;34m()\u001b[0m\n",
      "\u001b[1;32mh5py\\h5f.pyx\u001b[0m in \u001b[0;36mh5py.h5f.open\u001b[1;34m()\u001b[0m\n",
      "\u001b[1;31mOSError\u001b[0m: Unable to open file (unable to open file: name = './models/model1.hdf5', errno = 2, error message = 'No such file or directory', flags = 0, o_flags = 0)"
     ]
    }
   ],
   "source": [
    "%%time\n",
    "BACKBONE = 'efficientnetb0'\n",
    "model1 = sm.Unet(BACKBONE, input_shape = (IMAGE_SIZE[0],IMAGE_SIZE[1],IMAGE_SIZE[2]),classes=1, activation='sigmoid',encoder_weights='imagenet')\n",
    "model2 = sm.Unet(BACKBONE, input_shape = (IMAGE_SIZE[0],IMAGE_SIZE[1],IMAGE_SIZE[2]),classes=1, activation='sigmoid',encoder_weights='imagenet')\n",
    "model3 = sm.Unet(BACKBONE, input_shape = (IMAGE_SIZE[0],IMAGE_SIZE[1],IMAGE_SIZE[2]),classes=1, activation='sigmoid',encoder_weights='imagenet')\n",
    "\n",
    "BACKBONE = 'efficientnetb7'\n",
    "model4 = sm.Unet(BACKBONE, input_shape = (IMAGE_SIZE[0],IMAGE_SIZE[1],IMAGE_SIZE[2]),classes=1, activation='sigmoid',encoder_weights='imagenet')\n",
    "model5 = sm.Unet(BACKBONE, input_shape = (IMAGE_SIZE[0],IMAGE_SIZE[1],IMAGE_SIZE[2]),classes=1, activation='sigmoid',encoder_weights='imagenet')\n",
    "\n",
    "preprocess_input = sm.get_preprocessing(BACKBONE)\n",
    "\n",
    "model1.load_weights(path_base_model + 'model1.hdf5')\n",
    "model2.load_weights(path_base_model + 'model2.hdf5')\n",
    "model3.load_weights(path_base_model + 'model3.hdf5')\n",
    "model4.load_weights(path_base_model + 'model4.hdf5')\n",
    "model5.load_weights(path_base_model + 'model5.hdf5')"
   ]
  },
  {
   "cell_type": "markdown",
   "metadata": {},
   "source": [
    "# Functions"
   ]
  },
  {
   "cell_type": "code",
   "execution_count": 4,
   "metadata": {},
   "outputs": [],
   "source": [
    "def preprocessing_HE(img_):\n",
    "    \n",
    "    hist, bins = np.histogram(img_.flatten(), 256,[0,256])\n",
    "    cdf = hist.cumsum()\n",
    "    cdf_m = np.ma.masked_equal(cdf,0)\n",
    "    cdf_m = (cdf_m - cdf_m.min())*255/(cdf_m.max()-cdf_m.min())\n",
    "    cdf = np.ma.filled(cdf_m,0).astype('uint8')\n",
    "\n",
    "    img_2 = cdf[img_]\n",
    "    \n",
    "    return img_2  \n",
    "        \n",
    "def get_binary_mask (mask_, th_ = 0.5):\n",
    "    mask_[mask_>th_]  = 1\n",
    "    mask_[mask_<=th_] = 0\n",
    "    return mask_\n",
    "    \n",
    "def ensemble_results (mask1_, mask2_, mask3_, mask4_, mask5_):\n",
    "    \n",
    "    mask1_ = get_binary_mask (mask1_)\n",
    "    mask2_ = get_binary_mask (mask2_)\n",
    "    mask3_ = get_binary_mask (mask3_)\n",
    "    mask4_ = get_binary_mask (mask4_)\n",
    "    mask5_ = get_binary_mask (mask5_)\n",
    "    \n",
    "    ensemble_mask = mask1_ + mask2_ + mask3_ + mask4_ + mask5_\n",
    "    ensemble_mask[ensemble_mask<=2.0] = 0\n",
    "    ensemble_mask[ensemble_mask> 2.0] = 1\n",
    "    \n",
    "    return ensemble_mask\n",
    "\n",
    "def postprocessing_HoleFilling (mask_):\n",
    "    \n",
    "    ensemble_mask_post_temp = ndimage.binary_fill_holes(mask_).astype(int)\n",
    "     \n",
    "    return ensemble_mask_post_temp\n",
    "\n",
    "def get_maximum_index (labeled_array):\n",
    "    \n",
    "    ind_nums = []\n",
    "    for i in range (len(np.unique(labeled_array)) - 1):\n",
    "        ind_nums.append ([0, i+1])\n",
    "        \n",
    "    for i in range (1, len(np.unique(labeled_array))):\n",
    "        ind_nums[i-1][0] = len(np.where (labeled_array == np.unique(labeled_array)[i])[0])\n",
    "        \n",
    "    ind_nums = sorted(ind_nums)\n",
    "    \n",
    "    return ind_nums[len(ind_nums)-1][1], ind_nums[len(ind_nums)-2][1]\n",
    "    \n",
    "def postprocessing_EliminatingIsolation (ensemble_mask_post_temp):\n",
    "        \n",
    "    labeled_array, num_features = label(ensemble_mask_post_temp)\n",
    "    \n",
    "    ind_max1, ind_max2 = get_maximum_index (labeled_array)\n",
    "    \n",
    "    ensemble_mask_post_temp2 = np.zeros (ensemble_mask_post_temp.shape)\n",
    "    ensemble_mask_post_temp2[labeled_array == ind_max1] = 1\n",
    "    ensemble_mask_post_temp2[labeled_array == ind_max2] = 1    \n",
    "    \n",
    "    return ensemble_mask_post_temp2.astype(int)\n",
    "\n",
    "def get_prediction(model_, img_org_):\n",
    "    \n",
    "    img_org_resize = cv2.resize(img_org_,(IMAGE_SIZE[0],IMAGE_SIZE[1]),cv2.INTER_AREA)\n",
    "    img_org_resize_HE = preprocessing_HE (img_org_resize)    \n",
    "    img_ready = preprocess_input (img_org_resize_HE)\n",
    "\n",
    "    img_ready = np.expand_dims(img_ready, axis=0) \n",
    "    pr_mask = model_.predict(img_ready)\n",
    "    pr_mask = np.squeeze(pr_mask)\n",
    "    pr_mask = np.expand_dims(pr_mask, axis=-1)    \n",
    "    return pr_mask[:,:,0]\n",
    "\n",
    "def new_dir(dirName):\n",
    "    try:\n",
    "        os.mkdir(dirName)\n",
    "        print(\"Directory \" , dirName ,  \" Created \") \n",
    "    except FileExistsError:\n",
    "        print(\"Directory \" , dirName ,  \" already exists\")"
   ]
  },
  {
   "cell_type": "markdown",
   "metadata": {},
   "source": [
    "# Inference"
   ]
  },
  {
   "cell_type": "code",
   "execution_count": null,
   "metadata": {
    "scrolled": false
   },
   "outputs": [
    {
     "name": "stdout",
     "output_type": "stream",
     "text": [
      "file:  Pngs\\test_file_1.png\n"
     ]
    }
   ],
   "source": [
    "%%time\n",
    "\n",
    "for path_ in sorted(glob.glob (path_base_input + '*.*')):\n",
    "\n",
    "    print ('file: ', path_.split('/')[-1])\n",
    "    filename = os.path.basename(path_)\n",
    "    \n",
    "    out = os.path.join(path_base_output, filename.replace('.png','_Mask.png'))\n",
    "    img = cv2.imread(path_)    \n",
    "    pr_mask1 = get_prediction (model1, img)\n",
    "    pr_mask2 = get_prediction (model2, img)\n",
    "    pr_mask3 = get_prediction (model3, img)\n",
    "    pr_mask4 = get_prediction (model4, img)\n",
    "    pr_mask5 = get_prediction (model5, img)    \n",
    "\n",
    "    ensemble_mask            = ensemble_results (pr_mask1, pr_mask2, pr_mask3, pr_mask4, pr_mask5)\n",
    "    ensemble_mask_post_HF    = postprocessing_HoleFilling (ensemble_mask)\n",
    "    ensemble_mask_post_HF_EI = postprocessing_EliminatingIsolation (ensemble_mask_post_HF)\n",
    "\n",
    "    plt.figure(figsize=(20, 18))\n",
    "    plt.subplot(3, 3, 1)\n",
    "    plt.title('Input with HE')\n",
    "    plt.imshow(img)\n",
    "    plt.subplot(3, 3, 2)\n",
    "    plt.title('Model 1')\n",
    "    plt.imshow(pr_mask1, cmap='gray')\n",
    "    plt.subplot(3, 3, 3)\n",
    "    plt.title('Model 2')\n",
    "    plt.imshow(pr_mask2, cmap='gray')\n",
    "    plt.subplot(3, 3, 4)\n",
    "    plt.title('Model 3')\n",
    "    plt.imshow(pr_mask3, cmap='gray')\n",
    "    plt.subplot(3, 3, 5)\n",
    "    plt.title('Model 4')\n",
    "    plt.imshow(pr_mask4, cmap='gray')\n",
    "    plt.subplot(3, 3, 6)\n",
    "    plt.title('Model 5')\n",
    "    plt.imshow(pr_mask5, cmap='gray')\n",
    "    plt.subplot(3, 3, 7)\n",
    "    plt.title('Ensemble')\n",
    "    plt.imshow(ensemble_mask, cmap='gray')\n",
    "    plt.subplot(3, 3, 8)\n",
    "    plt.title('Ensemble + HF')\n",
    "    plt.imshow(ensemble_mask_post_HF, cmap='gray')\n",
    "    plt.subplot(3, 3, 9)\n",
    "    plt.title('Ensemble + HF + EI')\n",
    "    plt.imshow(ensemble_mask_post_HF_EI, cmap='gray')\n",
    "    plt.show()\n",
    "    result = (ensemble_mask_post_HF_EI*255).astype(np.uint8)\n",
    "    result = Image.fromarray(result)\n",
    "    result.save(out, 'PNG')\n",
    "\n",
    "     "
   ]
  },
  {
   "cell_type": "code",
   "execution_count": null,
   "metadata": {},
   "outputs": [],
   "source": []
  }
 ],
 "metadata": {
  "kernelspec": {
   "display_name": "Segmentation",
   "language": "python",
   "name": "segmentation"
  },
  "language_info": {
   "codemirror_mode": {
    "name": "ipython",
    "version": 3
   },
   "file_extension": ".py",
   "mimetype": "text/x-python",
   "name": "python",
   "nbconvert_exporter": "python",
   "pygments_lexer": "ipython3",
   "version": "3.9.6"
  }
 },
 "nbformat": 4,
 "nbformat_minor": 2
}
