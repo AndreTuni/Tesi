{
 "cells": [
  {
   "cell_type": "markdown",
   "id": "e4ff871d",
   "metadata": {},
   "source": [
    "## Converting dicom chest x-ray files to png and executing registration\n"
   ]
  },
  {
   "cell_type": "code",
   "execution_count": 1,
   "id": "fefb2044",
   "metadata": {},
   "outputs": [],
   "source": [
    "#%matplotlib notebook\n",
    "import os\n",
    "import pyelastix\n",
    "from PIL import Image\n",
    "import numpy as np \n",
    "import cv2\n",
    "import json\n",
    "import pydicom\n",
    "from os import path\n",
    "from matplotlib import pyplot as plt\n",
    "from matplotlib import image as mpimg\n",
    "\n",
    "input_path ='./Masks/'\n",
    "ref_path = './Reference/Reference_Mask.png'"
   ]
  },
  {
   "cell_type": "markdown",
   "id": "141529b8",
   "metadata": {},
   "source": [
    "## Functions"
   ]
  },
  {
   "cell_type": "code",
   "execution_count": 2,
   "id": "e53bf732",
   "metadata": {},
   "outputs": [],
   "source": [
    "# creates a new folder if it does not already exist\n",
    "def new_dir(dirName):\n",
    "    try:\n",
    "        os.mkdir(dirName)\n",
    "        print(\"Directory \" , dirName ,  \" Created \") \n",
    "    except FileExistsError:\n",
    "        print(\"Directory \" , dirName ,  \" already exists\")\n",
    "\n",
    "# target and reference are assumed numpy arrays of image files of the same resolution\n",
    "def registration(target, reference, t):\n",
    "    \n",
    "    #internal elastix parameters\n",
    "    params = pyelastix.get_default_params(type=t) #RIGID, AFFINE, BSPLINE\n",
    "    params.NumberOfResolutions = 8\n",
    "    params.AutomaticTransformInitialization = True\n",
    "    params.AutomaticScalesEstimation = False\n",
    "    params.NumberOfHistogramBins = 64\n",
    "    params.MaximumStepLength = 4.0\n",
    "    params.MaximumNumberOfIterations = 500\n",
    "\n",
    "    registered, field = pyelastix.register(target, reference, params, verbose=0)\n",
    "    return registered\n",
    "  \n",
    "  "
   ]
  },
  {
   "cell_type": "markdown",
   "id": "a1773dc1",
   "metadata": {},
   "source": [
    "## Execution Pipeline \n",
    "\n"
   ]
  },
  {
   "cell_type": "markdown",
   "id": "87301e1b",
   "metadata": {},
   "source": [
    "### Affine Registrations"
   ]
  },
  {
   "cell_type": "code",
   "execution_count": null,
   "id": "1ed12e50",
   "metadata": {},
   "outputs": [
    {
     "name": "stdout",
     "output_type": "stream",
     "text": [
      "Directory  Pngs  Created \n",
      "Directory  Registered_with_PyElastix  Created \n",
      "Directory  Registered_Masks  already exists\n",
      "Found elastix version: 5.0.1 in 'elastix.exe'\n"
     ]
    }
   ],
   "source": [
    "%%time\n",
    "new_dir(\"Pngs\")\n",
    "new_dir(\"Registered_with_PyElastix\")\n",
    "new_dir(\"Registered_Masks\")\n",
    "\n",
    "reference = np.asarray(Image.open(ref_path)).astype(float)\n",
    "for filename in os.listdir(input_path):\n",
    "    if filename.endswith(\".png\"):\n",
    "        path = os.path.join(input_path, filename)\n",
    "        target = np.asarray(Image.open(path)).astype(np.uint8)\n",
    "        path = os.path.join('Registered_Masks', filename) \n",
    "        r = registration(target, reference,\"AFFINE\")\n",
    "    \n",
    "        plt.figure(figsize=(20, 18))\n",
    "        plt.subplot(3, 3, 1)\n",
    "        plt.title('Reference')\n",
    "        plt.imshow(reference, cmap='gray')\n",
    "        plt.subplot(3, 3, 2)\n",
    "        plt.title('Target')\n",
    "        plt.imshow(target, cmap='gray')\n",
    "        plt.subplot(3, 3, 3)\n",
    "        plt.title('Registered Mask')\n",
    "        plt.imshow(r, cmap='gray')\n",
    "        result = Image.fromarray(r)\n",
    "        result.convert('RGB').save(path.replace('.png','_AFFINE.png'), 'PNG')\n",
    "    else:\n",
    "        continue"
   ]
  },
  {
   "cell_type": "markdown",
   "id": "48abb1da",
   "metadata": {},
   "source": [
    "## Observations"
   ]
  },
  {
   "cell_type": "code",
   "execution_count": null,
   "id": "84ccae60",
   "metadata": {},
   "outputs": [],
   "source": []
  }
 ],
 "metadata": {
  "kernelspec": {
   "display_name": "Registration",
   "language": "python",
   "name": "registration"
  },
  "language_info": {
   "codemirror_mode": {
    "name": "ipython",
    "version": 3
   },
   "file_extension": ".py",
   "mimetype": "text/x-python",
   "name": "python",
   "nbconvert_exporter": "python",
   "pygments_lexer": "ipython3",
   "version": "3.9.6"
  }
 },
 "nbformat": 4,
 "nbformat_minor": 5
}
