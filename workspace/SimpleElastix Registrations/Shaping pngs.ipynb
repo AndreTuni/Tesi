{
 "cells": [
  {
   "cell_type": "code",
   "execution_count": 16,
   "id": "c4d4a2fa",
   "metadata": {},
   "outputs": [],
   "source": [
    "import os\n",
    "from PIL import Image\n",
    "import numpy as np \n",
    "from os import path\n",
    "import cv2\n",
    "path = './Reference/'\n",
    "path2 = './Masks'"
   ]
  },
  {
   "cell_type": "code",
   "execution_count": 17,
   "id": "91f44388",
   "metadata": {},
   "outputs": [],
   "source": [
    "# sets the image shape during the conversion as 1024 x 1024 for every .png file\n",
    "def shape_as(source, target_dims=(512, 512)):\n",
    "\tmax_height = 512\n",
    "\tmax_width = 512\n",
    "\theight,width = source.shape\n",
    "    # only shrink if img is bigger than required\n",
    "\tif target_dims[0] < height or target_dims[1] < width:\n",
    "\t\t# get scaling factor\n",
    "\t\tscaling_factor = target_dims[0] / float(height)\n",
    "\t\tif target_dims[1]/float(width) < scaling_factor:\n",
    "\t\t\tscaling_factor = target_dims[1] / float(width)\n",
    "\t\t# resize image\n",
    "\t\tsource = cv2.resize(source, None, fx=scaling_factor, fy=scaling_factor, interpolation=cv2.INTER_AREA)\n",
    "\theight,width = source.shape\n",
    "\tif target_dims[0] > height or target_dims[1] > width:\n",
    "\t\tdelta_x = int((target_dims[0] - source.shape[0])/2)\n",
    "\t\tdelta_y = int((target_dims[1] - source.shape[1])/2)\n",
    "\t\tif (delta_x > 0) or (delta_y > 0):\n",
    "\t\t\tsource = cv2.copyMakeBorder(source,delta_x,delta_x,delta_y,delta_y,cv2.BORDER_CONSTANT,value=[0,0,0])\n",
    "\treturn source"
   ]
  },
  {
   "cell_type": "code",
   "execution_count": 14,
   "id": "c39af486",
   "metadata": {},
   "outputs": [],
   "source": [
    "for filename in os.listdir(path2):\n",
    "    p = os.path.join(path2, filename)\n",
    "    f = np.asarray(Image.open(p)).astype(float)\n",
    "    f = shape_as(f)\n",
    "    result = Image.fromarray(f)\n",
    "    result.convert('P').save(p.replace('.png', 'up.png'), 'PNG')"
   ]
  },
  {
   "cell_type": "code",
   "execution_count": 18,
   "id": "1ab7d214",
   "metadata": {},
   "outputs": [],
   "source": [
    "for filename in os.listdir(path):\n",
    "    p = os.path.join(path, filename)\n",
    "    f = np.asarray(Image.open(p)).astype(float)\n",
    "    f = shape_as(f)\n",
    "    result = Image.fromarray(f)\n",
    "    result.convert('P').save(p, 'PNG')\n"
   ]
  },
  {
   "cell_type": "code",
   "execution_count": 8,
   "id": "b5d3be63",
   "metadata": {},
   "outputs": [],
   "source": [
    "path = './Reference/Reference.png'\n",
    "f = np.asarray(Image.open(path)).astype(float)\n",
    "f = shape_as(f)\n",
    "result = Image.fromarray(f)\n",
    "result.convert('P').save(path, 'PNG')"
   ]
  },
  {
   "cell_type": "code",
   "execution_count": null,
   "id": "43a950e5",
   "metadata": {},
   "outputs": [],
   "source": []
  }
 ],
 "metadata": {
  "kernelspec": {
   "display_name": "Python 3 (ipykernel)",
   "language": "python",
   "name": "python3"
  },
  "language_info": {
   "codemirror_mode": {
    "name": "ipython",
    "version": 3
   },
   "file_extension": ".py",
   "mimetype": "text/x-python",
   "name": "python",
   "nbconvert_exporter": "python",
   "pygments_lexer": "ipython3",
   "version": "3.9.1"
  }
 },
 "nbformat": 4,
 "nbformat_minor": 5
}
