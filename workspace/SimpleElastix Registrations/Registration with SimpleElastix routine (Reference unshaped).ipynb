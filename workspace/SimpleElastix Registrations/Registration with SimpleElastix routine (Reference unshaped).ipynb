{
 "cells": [
  {
   "cell_type": "code",
   "execution_count": 1,
   "id": "3ad83855",
   "metadata": {},
   "outputs": [],
   "source": [
    "import SimpleITK as sitk\n",
    "from matplotlib import pyplot as plt\n",
    "from PIL import Image\n",
    "import cv2\n",
    "import os\n",
    "import numpy as np\n",
    "\n",
    "\n",
    "ref_path = './Reference/Reference.png'\n",
    "input_path = './Pngs'\n"
   ]
  },
  {
   "cell_type": "code",
   "execution_count": 2,
   "id": "52435b10",
   "metadata": {},
   "outputs": [],
   "source": [
    "# creates a new folder if it does not already exist\n",
    "def new_dir(dirName):\n",
    "    try:\n",
    "        os.mkdir(dirName)\n",
    "        print(\"Directory \" , dirName ,  \" Created \") \n",
    "    except FileExistsError:\n",
    "        print(\"Directory \" , dirName ,  \" already exists\")\n",
    "\n",
    "# target and reference are assumed as sitk.Image arrays\n",
    "def affine_registration(fixed, moving):\n",
    "    \n",
    "    parameterMap = sitk.GetDefaultParameterMap('affine')\n",
    "    elastixImageFilter = sitk.ElastixImageFilter()\n",
    "    elastixImageFilter.SetFixedImage(fixedImage)\n",
    "    elastixImageFilter.SetMovingImage(movingImage)\n",
    "    elastixImageFilter.SetParameterMap(parameterMap)\n",
    "    elastixImageFilter.Execute()\n",
    "    resultImage = elastixImageFilter.GetResultImage()\n",
    "    transformParameterMap = elastixImageFilter.GetTransformParameterMap()\n",
    "    return resultImage, transformParameterMap\n",
    "  \n",
    "def IoU(img1, img2):\n",
    "    intersection = numpy.logical_and(img1, img2)\n",
    "    union = numpy.logical_or(img1, img2)\n",
    "    iou_score = numpy.sum(intersection) / numpy.sum(union)\n",
    "    return iou_score"
   ]
  },
  {
   "cell_type": "code",
   "execution_count": 5,
   "id": "76db88ae",
   "metadata": {},
   "outputs": [
    {
     "ename": "RuntimeError",
     "evalue": "Exception thrown in SimpleITK ElastixImageFilter_Execute: C:\\Users\\tunit\\Documents\\GitHub\\SimpleElastix\\Code\\Elastix\\src\\sitkElastixImageFilterImpl.cxx:259:\nsitk::ERROR: \nitk::ExceptionObject (000000759B5F1E40)\nLocation: \"void __cdecl elastix::ElastixFilter<class itk::Image<float,2>,class itk::Image<float,2> >::GenerateData(void)\" \nFile: C:\\Users\\tunit\\Desktop\\B\\Elastix\\Core\\Main\\elxElastixFilter.hxx\nLine: 253\nDescription: itk::ERROR: ElastixFilter(00000218102E62C0): Internal elastix error: See elastix log (use LogToConsoleOn() or LogToFileOn()).\n\n",
     "output_type": "error",
     "traceback": [
      "\u001b[1;31m---------------------------------------------------------------------------\u001b[0m",
      "\u001b[1;31mRuntimeError\u001b[0m                              Traceback (most recent call last)",
      "\u001b[1;32m<timed exec>\u001b[0m in \u001b[0;36m<module>\u001b[1;34m\u001b[0m\n",
      "\u001b[1;32m~\\AppData\\Local\\Temp/ipykernel_6140/4215021061.py\u001b[0m in \u001b[0;36maffine_registration\u001b[1;34m(fixed, moving)\u001b[0m\n\u001b[0;32m     15\u001b[0m     \u001b[0melastixImageFilter\u001b[0m\u001b[1;33m.\u001b[0m\u001b[0mSetMovingImage\u001b[0m\u001b[1;33m(\u001b[0m\u001b[0mmovingImage\u001b[0m\u001b[1;33m)\u001b[0m\u001b[1;33m\u001b[0m\u001b[1;33m\u001b[0m\u001b[0m\n\u001b[0;32m     16\u001b[0m     \u001b[0melastixImageFilter\u001b[0m\u001b[1;33m.\u001b[0m\u001b[0mSetParameterMap\u001b[0m\u001b[1;33m(\u001b[0m\u001b[0mparameterMap\u001b[0m\u001b[1;33m)\u001b[0m\u001b[1;33m\u001b[0m\u001b[1;33m\u001b[0m\u001b[0m\n\u001b[1;32m---> 17\u001b[1;33m     \u001b[0melastixImageFilter\u001b[0m\u001b[1;33m.\u001b[0m\u001b[0mExecute\u001b[0m\u001b[1;33m(\u001b[0m\u001b[1;33m)\u001b[0m\u001b[1;33m\u001b[0m\u001b[1;33m\u001b[0m\u001b[0m\n\u001b[0m\u001b[0;32m     18\u001b[0m     \u001b[0mresultImage\u001b[0m \u001b[1;33m=\u001b[0m \u001b[0melastixImageFilter\u001b[0m\u001b[1;33m.\u001b[0m\u001b[0mGetResultImage\u001b[0m\u001b[1;33m(\u001b[0m\u001b[1;33m)\u001b[0m\u001b[1;33m\u001b[0m\u001b[1;33m\u001b[0m\u001b[0m\n\u001b[0;32m     19\u001b[0m     \u001b[0mtransformParameterMap\u001b[0m \u001b[1;33m=\u001b[0m \u001b[0melastixImageFilter\u001b[0m\u001b[1;33m.\u001b[0m\u001b[0mGetTransformParameterMap\u001b[0m\u001b[1;33m(\u001b[0m\u001b[1;33m)\u001b[0m\u001b[1;33m\u001b[0m\u001b[1;33m\u001b[0m\u001b[0m\n",
      "\u001b[1;32mc:\\users\\tunit\\appdata\\local\\programs\\python\\python39\\lib\\site-packages\\simpleitk-2.0.0rc2.dev910+ga138e-py3.9-win-amd64.egg\\SimpleITK\\SimpleITK.py\u001b[0m in \u001b[0;36mExecute\u001b[1;34m(self)\u001b[0m\n\u001b[0;32m  11128\u001b[0m     \u001b[1;32mdef\u001b[0m \u001b[0mExecute\u001b[0m\u001b[1;33m(\u001b[0m\u001b[0mself\u001b[0m\u001b[1;33m)\u001b[0m\u001b[1;33m:\u001b[0m\u001b[1;33m\u001b[0m\u001b[1;33m\u001b[0m\u001b[0m\n\u001b[0;32m  11129\u001b[0m         \u001b[1;34m\"\"\"Execute(ElastixImageFilter self) -> Image\"\"\"\u001b[0m\u001b[1;33m\u001b[0m\u001b[1;33m\u001b[0m\u001b[0m\n\u001b[1;32m> 11130\u001b[1;33m         \u001b[1;32mreturn\u001b[0m \u001b[0m_SimpleITK\u001b[0m\u001b[1;33m.\u001b[0m\u001b[0mElastixImageFilter_Execute\u001b[0m\u001b[1;33m(\u001b[0m\u001b[0mself\u001b[0m\u001b[1;33m)\u001b[0m\u001b[1;33m\u001b[0m\u001b[1;33m\u001b[0m\u001b[0m\n\u001b[0m\u001b[0;32m  11131\u001b[0m \u001b[1;33m\u001b[0m\u001b[0m\n\u001b[0;32m  11132\u001b[0m \u001b[1;33m\u001b[0m\u001b[0m\n",
      "\u001b[1;31mRuntimeError\u001b[0m: Exception thrown in SimpleITK ElastixImageFilter_Execute: C:\\Users\\tunit\\Documents\\GitHub\\SimpleElastix\\Code\\Elastix\\src\\sitkElastixImageFilterImpl.cxx:259:\nsitk::ERROR: \nitk::ExceptionObject (000000759B5F1E40)\nLocation: \"void __cdecl elastix::ElastixFilter<class itk::Image<float,2>,class itk::Image<float,2> >::GenerateData(void)\" \nFile: C:\\Users\\tunit\\Desktop\\B\\Elastix\\Core\\Main\\elxElastixFilter.hxx\nLine: 253\nDescription: itk::ERROR: ElastixFilter(00000218102E62C0): Internal elastix error: See elastix log (use LogToConsoleOn() or LogToFileOn()).\n\n"
     ]
    }
   ],
   "source": [
    "%%time\n",
    "fixedImage = sitk.ReadImage(ref_path, sitk.sitkFloat32)\n",
    "for filename in os.listdir(input_path):\n",
    "    if filename.endswith(\".png\"):\n",
    "        path = os.path.join(input_path, filename)\n",
    "        movingImage = sitk.ReadImage(path, sitk.sitkFloat32)\n",
    "        path2 = os.path.join('Masks_Registered_with_SimpleElastix', filename) \n",
    "        ri, tpm = affine_registration(fixedImage, movingImage)\n",
    "        res = sitk.GetArrayFromImage(ri)\n",
    "        ret, res = cv2.threshold(res, 120, 255, cv2.THRESH_BINARY)\n",
    "        reference = sitk.GetArrayFromImage(fixedImage)  \n",
    "        to_register = sitk.GetArrayFromImage(movingImage)\n",
    "\n",
    "        plt.figure(figsize=(20, 18))\n",
    "        plt.subplot(3, 3, 1)\n",
    "        plt.title('Reference')\n",
    "        plt.imshow(reference, cmap='gray')\n",
    "        plt.subplot(3, 3, 2)\n",
    "        plt.title('Moving Image')\n",
    "        plt.imshow(to_register, cmap='gray')\n",
    "        plt.subplot(3, 3, 3)\n",
    "        plt.title('Registered Mask')\n",
    "        plt.imshow(res, cmap='gray')\n",
    "        result = Image.fromarray(res)\n",
    "        result.convert('P').save(path2.replace('.png','_SimpleElastix.png'), 'PNG')\n",
    "\n",
    "    else:\n",
    "        continue"
   ]
  },
  {
   "cell_type": "markdown",
   "id": "70af78fb",
   "metadata": {},
   "source": [
    "### Intersection / union to check if SimpleElastix is as accurate as PyElastix"
   ]
  },
  {
   "cell_type": "code",
   "execution_count": null,
   "id": "2d678489",
   "metadata": {},
   "outputs": [],
   "source": []
  }
 ],
 "metadata": {
  "kernelspec": {
   "display_name": "Python 3 (ipykernel)",
   "language": "python",
   "name": "python3"
  },
  "language_info": {
   "codemirror_mode": {
    "name": "ipython",
    "version": 3
   },
   "file_extension": ".py",
   "mimetype": "text/x-python",
   "name": "python",
   "nbconvert_exporter": "python",
   "pygments_lexer": "ipython3",
   "version": "3.9.1"
  }
 },
 "nbformat": 4,
 "nbformat_minor": 5
}
