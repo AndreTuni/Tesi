{
 "cells": [
  {
   "cell_type": "code",
   "execution_count": 1,
   "id": "c4d4a2fa",
   "metadata": {},
   "outputs": [],
   "source": [
    "import os\n",
    "from PIL import Image\n",
    "import numpy as np \n",
    "from os import path\n",
    "import cv2\n",
    "path = './Pngs/'"
   ]
  },
  {
   "cell_type": "code",
   "execution_count": 2,
   "id": "91f44388",
   "metadata": {},
   "outputs": [],
   "source": [
    "# sets the image shape during the conversion as 1024 x 1024 for every .png file\n",
    "def shape_as(source, target_dims=(1024, 1024)):\n",
    "\tmax_height = 1024\n",
    "\tmax_width = 1024\n",
    "\theight,width = source.shape\n",
    "    # only shrink if img is bigger than required\n",
    "\tif target_dims[0] < height or target_dims[1] < width:\n",
    "\t\t# get scaling factor\n",
    "\t\tscaling_factor = target_dims[0] / float(height)\n",
    "\t\tif target_dims[1]/float(width) < scaling_factor:\n",
    "\t\t\tscaling_factor = target_dims[1] / float(width)\n",
    "\t\t# resize image\n",
    "\t\tsource = cv2.resize(source, None, fx=scaling_factor, fy=scaling_factor, interpolation=cv2.INTER_AREA)\n",
    "\theight,width = source.shape\n",
    "\tif target_dims[0] > height or target_dims[1] > width:\n",
    "\t\tdelta_x = int((target_dims[0] - source.shape[0])/2)\n",
    "\t\tdelta_y = int((target_dims[1] - source.shape[1])/2)\n",
    "\t\tif (delta_x > 0) or (delta_y > 0):\n",
    "\t\t\tsource = cv2.copyMakeBorder(source,delta_x,delta_x,delta_y,delta_y,cv2.BORDER_CONSTANT,value=[0,0,0])\n",
    "\treturn source"
   ]
  },
  {
   "cell_type": "code",
   "execution_count": 3,
   "id": "1ab7d214",
   "metadata": {},
   "outputs": [
    {
     "ename": "PermissionError",
     "evalue": "[Errno 13] Permission denied: './Pngs/'",
     "output_type": "error",
     "traceback": [
      "\u001b[1;31m---------------------------------------------------------------------------\u001b[0m",
      "\u001b[1;31mPermissionError\u001b[0m                           Traceback (most recent call last)",
      "\u001b[1;32m~\\AppData\\Local\\Temp/ipykernel_4672/731056566.py\u001b[0m in \u001b[0;36m<module>\u001b[1;34m\u001b[0m\n\u001b[0;32m      4\u001b[0m     \u001b[0mf\u001b[0m \u001b[1;33m=\u001b[0m \u001b[0mshape_as\u001b[0m\u001b[1;33m(\u001b[0m\u001b[0mf\u001b[0m\u001b[1;33m)\u001b[0m\u001b[1;33m\u001b[0m\u001b[1;33m\u001b[0m\u001b[0m\n\u001b[0;32m      5\u001b[0m     \u001b[0mresult\u001b[0m \u001b[1;33m=\u001b[0m \u001b[0mImage\u001b[0m\u001b[1;33m.\u001b[0m\u001b[0mfromarray\u001b[0m\u001b[1;33m(\u001b[0m\u001b[0mf\u001b[0m\u001b[1;33m)\u001b[0m\u001b[1;33m\u001b[0m\u001b[1;33m\u001b[0m\u001b[0m\n\u001b[1;32m----> 6\u001b[1;33m     \u001b[0mresult\u001b[0m\u001b[1;33m.\u001b[0m\u001b[0mconvert\u001b[0m\u001b[1;33m(\u001b[0m\u001b[1;34m'P'\u001b[0m\u001b[1;33m)\u001b[0m\u001b[1;33m.\u001b[0m\u001b[0msave\u001b[0m\u001b[1;33m(\u001b[0m\u001b[0mpath\u001b[0m\u001b[1;33m,\u001b[0m \u001b[1;34m'PNG'\u001b[0m\u001b[1;33m)\u001b[0m\u001b[1;33m\u001b[0m\u001b[1;33m\u001b[0m\u001b[0m\n\u001b[0m",
      "\u001b[1;32mc:\\users\\tunit\\appdata\\local\\programs\\python\\python39\\lib\\site-packages\\PIL\\Image.py\u001b[0m in \u001b[0;36msave\u001b[1;34m(self, fp, format, **params)\u001b[0m\n\u001b[0;32m   2230\u001b[0m                 \u001b[0mfp\u001b[0m \u001b[1;33m=\u001b[0m \u001b[0mbuiltins\u001b[0m\u001b[1;33m.\u001b[0m\u001b[0mopen\u001b[0m\u001b[1;33m(\u001b[0m\u001b[0mfilename\u001b[0m\u001b[1;33m,\u001b[0m \u001b[1;34m\"r+b\"\u001b[0m\u001b[1;33m)\u001b[0m\u001b[1;33m\u001b[0m\u001b[1;33m\u001b[0m\u001b[0m\n\u001b[0;32m   2231\u001b[0m             \u001b[1;32melse\u001b[0m\u001b[1;33m:\u001b[0m\u001b[1;33m\u001b[0m\u001b[1;33m\u001b[0m\u001b[0m\n\u001b[1;32m-> 2232\u001b[1;33m                 \u001b[0mfp\u001b[0m \u001b[1;33m=\u001b[0m \u001b[0mbuiltins\u001b[0m\u001b[1;33m.\u001b[0m\u001b[0mopen\u001b[0m\u001b[1;33m(\u001b[0m\u001b[0mfilename\u001b[0m\u001b[1;33m,\u001b[0m \u001b[1;34m\"w+b\"\u001b[0m\u001b[1;33m)\u001b[0m\u001b[1;33m\u001b[0m\u001b[1;33m\u001b[0m\u001b[0m\n\u001b[0m\u001b[0;32m   2233\u001b[0m \u001b[1;33m\u001b[0m\u001b[0m\n\u001b[0;32m   2234\u001b[0m         \u001b[1;32mtry\u001b[0m\u001b[1;33m:\u001b[0m\u001b[1;33m\u001b[0m\u001b[1;33m\u001b[0m\u001b[0m\n",
      "\u001b[1;31mPermissionError\u001b[0m: [Errno 13] Permission denied: './Pngs/'"
     ]
    }
   ],
   "source": [
    "for filename in os.listdir(path):\n",
    "    p = os.path.join(path, filename)\n",
    "    f = np.asarray(Image.open(p)).astype(float)\n",
    "    f = shape_as(f)\n",
    "    result = Image.fromarray(f)\n",
    "    result.convert('P').save(path, 'PNG')\n"
   ]
  },
  {
   "cell_type": "code",
   "execution_count": null,
   "id": "b5d3be63",
   "metadata": {},
   "outputs": [],
   "source": []
  }
 ],
 "metadata": {
  "kernelspec": {
   "display_name": "Python 3 (ipykernel)",
   "language": "python",
   "name": "python3"
  },
  "language_info": {
   "codemirror_mode": {
    "name": "ipython",
    "version": 3
   },
   "file_extension": ".py",
   "mimetype": "text/x-python",
   "name": "python",
   "nbconvert_exporter": "python",
   "pygments_lexer": "ipython3",
   "version": "3.9.1"
  }
 },
 "nbformat": 4,
 "nbformat_minor": 5
}
