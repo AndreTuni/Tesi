{
 "cells": [
  {
   "cell_type": "code",
   "execution_count": 1,
   "id": "3ad83855",
   "metadata": {},
   "outputs": [],
   "source": [
    "import csv\n",
    "from PIL import Image\n",
    "import cv2\n",
    "import os\n",
    "import numpy as np\n",
    "\n",
    "\n",
    "ref_path = './Reference/Reference.png'\n",
    "input_path = './Registered_with_SimpleElastix'\n",
    "input_path2 = './Registered_with_Transformix'\n",
    "out = 'Evaluation'\n",
    "pngs = './Pngs'\n"
   ]
  },
  {
   "cell_type": "code",
   "execution_count": 2,
   "id": "52435b10",
   "metadata": {},
   "outputs": [],
   "source": [
    "\n",
    "def IoU(img1, img2):\n",
    "    intersection = np.logical_and(img1, img2)\n",
    "    union = np.logical_or(img1, img2)\n",
    "    iou_score = np.sum(intersection) / np.sum(union)\n",
    "    return iou_score\n",
    "    \n",
    "  \n",
    "  "
   ]
  },
  {
   "cell_type": "code",
   "execution_count": 5,
   "id": "b48a272e",
   "metadata": {},
   "outputs": [
    {
     "name": "stdout",
     "output_type": "stream",
     "text": [
      "18000\n",
      "16278.977912836193\n",
      "0.9043876618242329\n",
      "Wall time: 57.2 s\n"
     ]
    }
   ],
   "source": [
    "%%time\n",
    "n_files = 0\n",
    "tot = 0\n",
    "for filename in os.listdir(input_path):\n",
    "        n_files = n_files + 1\n",
    "        ref = Image.open(ref_path)\n",
    "        path = os.path.join(input_path, filename)\n",
    "        img = Image.open(path)\n",
    "        result = IoU(ref, img)\n",
    "        tot = tot + result \n",
    "        avg = tot / n_files\n",
    "        path1 = os.path.join(out, 'Elastix.txt')\n",
    "        with open(path1, 'a') as f:\n",
    "            f.write(filename)\n",
    "            f.write('\\t\\t')\n",
    "            f.write(str(result))\n",
    "            f.write('\\n')\n",
    "\n",
    "print('Number of  files = ' + n_files)\n",
    "print('Sum of IOU_scores = ' + tot)\n",
    "print('Average = ' + avg)"
   ]
  },
  {
   "cell_type": "code",
   "execution_count": 7,
   "id": "662acaec",
   "metadata": {},
   "outputs": [
    {
     "ename": "TypeError",
     "evalue": "can only concatenate str (not \"int\") to str",
     "output_type": "error",
     "traceback": [
      "\u001b[1;31m---------------------------------------------------------------------------\u001b[0m",
      "\u001b[1;31mTypeError\u001b[0m                                 Traceback (most recent call last)",
      "\u001b[1;32m<timed exec>\u001b[0m in \u001b[0;36m<module>\u001b[1;34m\u001b[0m\n",
      "\u001b[1;31mTypeError\u001b[0m: can only concatenate str (not \"int\") to str"
     ]
    }
   ],
   "source": [
    "%%time\n",
    "n_files = 0\n",
    "tot = 0\n",
    "for filename in os.listdir(input_path2):\n",
    "        n_files = n_files + 1\n",
    "        ref = Image.open(ref_path)\n",
    "        path = os.path.join(input_path2, filename)\n",
    "        img = Image.open(path)\n",
    "        result = IoU(ref, img)\n",
    "        tot = tot + result \n",
    "        avg = tot / n_files\n",
    "        path1 = os.path.join(out, 'Transformix.txt')\n",
    "        with open(path1, 'a') as f:\n",
    "            f.write(filename)\n",
    "            f.write('\\t\\t')\n",
    "            f.write(str(result))\n",
    "            f.write('\\n')\n",
    "            \n",
    "            \n",
    "print('Number of  files = ' + n_files)\n",
    "print('Sum of IOU_scores = ' + tot)\n",
    "print('Average = ' + avg)"
   ]
  },
  {
   "cell_type": "code",
   "execution_count": null,
   "id": "2d678489",
   "metadata": {},
   "outputs": [],
   "source": []
  }
 ],
 "metadata": {
  "kernelspec": {
   "display_name": "Python 3 (ipykernel)",
   "language": "python",
   "name": "python3"
  },
  "language_info": {
   "codemirror_mode": {
    "name": "ipython",
    "version": 3
   },
   "file_extension": ".py",
   "mimetype": "text/x-python",
   "name": "python",
   "nbconvert_exporter": "python",
   "pygments_lexer": "ipython3",
   "version": "3.9.1"
  }
 },
 "nbformat": 4,
 "nbformat_minor": 5
}
