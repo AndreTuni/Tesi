{
 "cells": [
  {
   "cell_type": "code",
   "execution_count": 1,
   "id": "3ad83855",
   "metadata": {},
   "outputs": [],
   "source": [
    "from PIL import Image\n",
    "import os\n",
    "import numpy as np\n",
    "\n",
    "\n",
    "ref_path = './Reference/Reference.png'\n",
    "input_path = './Registered_with_SimpleElastix'\n",
    "input_path2 = './Registered_with_Transformix'\n",
    "out = 'Evaluation'\n",
    "pngs = './Pngs'\n"
   ]
  },
  {
   "cell_type": "code",
   "execution_count": 2,
   "id": "52435b10",
   "metadata": {},
   "outputs": [],
   "source": [
    "\n",
    "def IoU(img1, img2):\n",
    "    intersection = np.logical_and(img1, img2)\n",
    "    union = np.logical_or(img1, img2)\n",
    "    iou_score = np.sum(intersection) / np.sum(union)\n",
    "    return iou_score\n",
    "    \n",
    "  \n",
    "  "
   ]
  },
  {
   "cell_type": "code",
   "execution_count": 3,
   "id": "662acaec",
   "metadata": {},
   "outputs": [
    {
     "name": "stdout",
     "output_type": "stream",
     "text": [
      "Average IoU Score= 0.7991000027627434\n",
      "Wall time: 53.1 s\n"
     ]
    }
   ],
   "source": [
    "%%time\n",
    "n_files = 0\n",
    "tot = 0\n",
    "for filename in os.listdir(input_path):\n",
    "        n_files = n_files + 1\n",
    "        ref = Image.open(ref_path)\n",
    "        path = os.path.join(input_path, filename)\n",
    "        img = Image.open(path)\n",
    "        result = IoU(ref, img)\n",
    "        tot = tot + result \n",
    "        avg = tot / n_files\n",
    "        path1 = os.path.join(out, 'Elastix.txt')\n",
    "        with open(path1, 'a') as f:\n",
    "            f.write(filename)\n",
    "            f.write('\\t\\t')\n",
    "            f.write(str(result))\n",
    "            f.write('\\n')\n",
    "\n",
    "print('Average IoU Score= ' + str(avg))"
   ]
  },
  {
   "cell_type": "code",
   "execution_count": 4,
   "id": "2d678489",
   "metadata": {},
   "outputs": [
    {
     "name": "stdout",
     "output_type": "stream",
     "text": [
      "Average IoU Score= 0.9043876618242329\n",
      "Wall time: 1min 7s\n"
     ]
    }
   ],
   "source": [
    "%%time\n",
    "n_files = 0\n",
    "tot = 0\n",
    "for filename in os.listdir(input_path2):\n",
    "        n_files = n_files + 1\n",
    "        ref = Image.open(ref_path)\n",
    "        path = os.path.join(input_path2, filename)\n",
    "        img = Image.open(path)\n",
    "        result = IoU(ref, img)\n",
    "        tot = tot + result \n",
    "        avg = tot / n_files\n",
    "        path1 = os.path.join(out, 'Transformix.txt')\n",
    "        with open(path1, 'a') as f:\n",
    "            f.write(filename)\n",
    "            f.write('\\t\\t')\n",
    "            f.write(str(result))\n",
    "            f.write('\\n')\n",
    "\n",
    "print('Average IoU Score= ' + str(avg))"
   ]
  },
  {
   "cell_type": "code",
   "execution_count": null,
   "id": "d1821711",
   "metadata": {},
   "outputs": [],
   "source": []
  }
 ],
 "metadata": {
  "kernelspec": {
   "display_name": "Python 3 (ipykernel)",
   "language": "python",
   "name": "python3"
  },
  "language_info": {
   "codemirror_mode": {
    "name": "ipython",
    "version": 3
   },
   "file_extension": ".py",
   "mimetype": "text/x-python",
   "name": "python",
   "nbconvert_exporter": "python",
   "pygments_lexer": "ipython3",
   "version": "3.9.1"
  }
 },
 "nbformat": 4,
 "nbformat_minor": 5
}
