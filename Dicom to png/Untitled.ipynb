{
 "cells": [
  {
   "cell_type": "code",
   "execution_count": null,
   "id": "5b84d241",
   "metadata": {},
   "outputs": [],
   "source": [
    "#Convertire file DICOM in PNG con matplotlib\n",
    "import pydicom\n",
    "from pydicom.pixel_data_handlers.util import apply_voi_lut\n",
    "from pydicom.pixel_data_handlers.util import apply_modality_lut\n",
    "\n",
    "ds= pydicom.dcmread('path')\n",
    "\n",
    "p_arr = ds.pixel_array.astype(float) \n",
    "#array di pixel estratti dal file dicom e astype(float) per evitare problemi di overflow o underfolow \n",
    "\n",
    "mod = apply_modality_lut(new_image, ds) \n",
    "# applicazione della modality look up table\n",
    "\n",
    "voi = apply_voi_lut(mod, ds) \n",
    "# applicazione della modality look up table\n",
    "\n",
    "scaled_image = (np.maximum(voi, 0) / voi.max()) * 255.0 \n",
    "#la scala dei gici usata dall'immagine passa da 16 a 8 bit\n",
    "\n",
    "scaled_image = np.uint8(scaled_image)\n",
    "\n",
    "\n",
    "plt.imsave(\"filename.png\", scaled_image, cmap=plt.cm.bone) \n",
    "# usando \"cmap=plt.cm.gray\" si rende produce un file.png più leggero ma meno leggibile"
   ]
  },
  {
   "cell_type": "code",
   "execution_count": 15,
   "id": "389ef385",
   "metadata": {
    "scrolled": true
   },
   "outputs": [],
   "source": []
  },
  {
   "cell_type": "markdown",
   "id": "077d21ec",
   "metadata": {},
   "source": [
    "Convertire file DICOM in PNG con PIL"
   ]
  },
  {
   "cell_type": "code",
   "execution_count": null,
   "id": "2e2caf0b",
   "metadata": {},
   "outputs": [],
   "source": []
  },
  {
   "cell_type": "code",
   "execution_count": null,
   "id": "79008943",
   "metadata": {},
   "outputs": [],
   "source": []
  }
 ],
 "metadata": {
  "kernelspec": {
   "display_name": "Python 3 (ipykernel)",
   "language": "python",
   "name": "python3"
  },
  "language_info": {
   "codemirror_mode": {
    "name": "ipython",
    "version": 3
   },
   "file_extension": ".py",
   "mimetype": "text/x-python",
   "name": "python",
   "nbconvert_exporter": "python",
   "pygments_lexer": "ipython3",
   "version": "3.8.10"
  }
 },
 "nbformat": 4,
 "nbformat_minor": 5
}
