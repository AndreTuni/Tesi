{
 "cells": [
  {
   "cell_type": "markdown",
   "id": "6c526a41",
   "metadata": {},
   "source": [
    "## Convertire i file dicom in file png cercando di mantenere coerente la scala dei grigi.\n"
   ]
  },
  {
   "cell_type": "markdown",
   "id": "a1f68668",
   "metadata": {},
   "source": [
    "Il procedimento è molto simile in entrambi i casi, anche perché matplotlib sfrutta PIL per visualizzare le immagini.\n",
    "In sostanza si apre il file dicom con pydicom da cui si estrae il \"pixel_array\" convertendo i valori al suo interno in float, sfruttando numpy per evitare underflow o overflow durante la conversione. \n",
    "Dopo aver usato apply_modality_lut() e apply_voi_lut() è possibile eseguire la conversione riducendo il range della scala dei grigi da 16 bit a 8 bit e salvare l'immagine in png."
   ]
  },
  {
   "cell_type": "code",
   "execution_count": 21,
   "id": "5b84d241",
   "metadata": {},
   "outputs": [
    {
     "name": "stdout",
     "output_type": "stream",
     "text": [
      "uint16\n",
      "(3072, 3072)\n",
      "[[0 0 0 ... 0 0 0]\n",
      " [0 0 0 ... 0 0 0]\n",
      " [0 0 3 ... 3 0 0]\n",
      " ...\n",
      " [0 0 3 ... 3 0 0]\n",
      " [0 0 0 ... 0 0 0]\n",
      " [0 0 0 ... 0 0 0]]\n",
      "uint8\n",
      "(3072, 3072)\n",
      "[[0 0 0 ... 0 0 0]\n",
      " [0 0 0 ... 0 0 0]\n",
      " [0 0 0 ... 0 0 0]\n",
      " ...\n",
      " [0 0 0 ... 0 0 0]\n",
      " [0 0 0 ... 0 0 0]\n",
      " [0 0 0 ... 0 0 0]]\n"
     ]
    }
   ],
   "source": [
    "#Convertire file DICOM in PNG con matplotlib\n",
    "import numpy as np\n",
    "import matplotlib.pyplot as plt\n",
    "import pydicom\n",
    "from pydicom.pixel_data_handlers.util import apply_voi_lut\n",
    "from pydicom.pixel_data_handlers.util import apply_modality_lut\n",
    "\n",
    "ds= pydicom.dcmread('img2.dicom')\n",
    "\n",
    "p_arr = ds.pixel_array.astype(float) \n",
    "#array di pixel estratti dal file dicom e astype(float) per evitare problemi di overflow o underfolow \n",
    "\n",
    "mod = apply_modality_lut(p_arr, ds) \n",
    "# applicazione della modality look up table\n",
    "\n",
    "voi = apply_voi_lut(mod, ds) \n",
    "# applicazione della voi look up table\n",
    "\n",
    "s_arr = (np.maximum(voi, 0) / voi.max()) * 255.0 \n",
    "#la scala dei grigi usata nell'immagine passa da 16 a 8 bit\n",
    "\n",
    "s_arr = np.uint8(s_arr) #conversione in Unsigned Int\n",
    "\n",
    "\"\"\"#immagine prima del rescaling\n",
    "print(p_arr.dtype)\n",
    "print(p_arr.shape)\n",
    "print(p_arr)\n",
    "\n",
    "#immagine dopo il rescaling\n",
    "\n",
    "print(s_arr.dtype)\n",
    "print(s_arr.shape)\n",
    "print(s_arr)\n",
    "\"\"\"\n",
    "\n",
    "plt.imshow(scaled_image, cmap = plt.cm.bone, vmin = 0, vmax = 255)\n",
    "#plt.imsave(\"matplotlib.png\", scaled_image, cmap = plt.cm.bone, vmin = 0, vmax = 255) \n",
    "# usando \"gray\" invece di \"bone\" si rende produce un file.png più leggero ma, a mio avviso, meno leggibile"
   ]
  },
  {
   "cell_type": "code",
   "execution_count": 22,
   "id": "389ef385",
   "metadata": {
    "scrolled": true
   },
   "outputs": [
    {
     "ename": "FileNotFoundError",
     "evalue": "[Errno 2] No such file or directory: 'path'",
     "output_type": "error",
     "traceback": [
      "\u001b[1;31m---------------------------------------------------------------------------\u001b[0m",
      "\u001b[1;31mFileNotFoundError\u001b[0m                         Traceback (most recent call last)",
      "\u001b[1;32m~\\AppData\\Local\\Temp/ipykernel_14108/3529574223.py\u001b[0m in \u001b[0;36m<module>\u001b[1;34m\u001b[0m\n\u001b[0;32m      7\u001b[0m \u001b[1;32mfrom\u001b[0m \u001b[0mPIL\u001b[0m \u001b[1;32mimport\u001b[0m \u001b[0mImage\u001b[0m\u001b[1;33m\u001b[0m\u001b[1;33m\u001b[0m\u001b[0m\n\u001b[0;32m      8\u001b[0m \u001b[1;33m\u001b[0m\u001b[0m\n\u001b[1;32m----> 9\u001b[1;33m \u001b[0mds\u001b[0m \u001b[1;33m=\u001b[0m \u001b[0mpydicom\u001b[0m\u001b[1;33m.\u001b[0m\u001b[0mdcmread\u001b[0m\u001b[1;33m(\u001b[0m\u001b[1;34m'path'\u001b[0m\u001b[1;33m)\u001b[0m\u001b[1;33m\u001b[0m\u001b[1;33m\u001b[0m\u001b[0m\n\u001b[0m\u001b[0;32m     10\u001b[0m \u001b[1;33m\u001b[0m\u001b[0m\n\u001b[0;32m     11\u001b[0m \u001b[0mp_arr\u001b[0m \u001b[1;33m=\u001b[0m \u001b[0mds\u001b[0m\u001b[1;33m.\u001b[0m\u001b[0mpixel_array\u001b[0m\u001b[1;33m.\u001b[0m\u001b[0mastype\u001b[0m\u001b[1;33m(\u001b[0m\u001b[0mfloat\u001b[0m\u001b[1;33m)\u001b[0m\u001b[1;33m\u001b[0m\u001b[1;33m\u001b[0m\u001b[0m\n",
      "\u001b[1;32mc:\\users\\tunit\\appdata\\local\\programs\\python\\python39\\lib\\site-packages\\pydicom\\filereader.py\u001b[0m in \u001b[0;36mdcmread\u001b[1;34m(fp, defer_size, stop_before_pixels, force, specific_tags)\u001b[0m\n\u001b[0;32m    859\u001b[0m         \u001b[0mcaller_owns_file\u001b[0m \u001b[1;33m=\u001b[0m \u001b[1;32mFalse\u001b[0m\u001b[1;33m\u001b[0m\u001b[1;33m\u001b[0m\u001b[0m\n\u001b[0;32m    860\u001b[0m         \u001b[0mlogger\u001b[0m\u001b[1;33m.\u001b[0m\u001b[0mdebug\u001b[0m\u001b[1;33m(\u001b[0m\u001b[1;34m\"Reading file '{0}'\"\u001b[0m\u001b[1;33m.\u001b[0m\u001b[0mformat\u001b[0m\u001b[1;33m(\u001b[0m\u001b[0mfp\u001b[0m\u001b[1;33m)\u001b[0m\u001b[1;33m)\u001b[0m\u001b[1;33m\u001b[0m\u001b[1;33m\u001b[0m\u001b[0m\n\u001b[1;32m--> 861\u001b[1;33m         \u001b[0mfp\u001b[0m \u001b[1;33m=\u001b[0m \u001b[0mopen\u001b[0m\u001b[1;33m(\u001b[0m\u001b[0mfp\u001b[0m\u001b[1;33m,\u001b[0m \u001b[1;34m'rb'\u001b[0m\u001b[1;33m)\u001b[0m\u001b[1;33m\u001b[0m\u001b[1;33m\u001b[0m\u001b[0m\n\u001b[0m\u001b[0;32m    862\u001b[0m     \u001b[1;32melif\u001b[0m \u001b[0mfp\u001b[0m \u001b[1;32mis\u001b[0m \u001b[1;32mNone\u001b[0m \u001b[1;32mor\u001b[0m \u001b[1;32mnot\u001b[0m \u001b[0mhasattr\u001b[0m\u001b[1;33m(\u001b[0m\u001b[0mfp\u001b[0m\u001b[1;33m,\u001b[0m \u001b[1;34m\"read\"\u001b[0m\u001b[1;33m)\u001b[0m \u001b[1;32mor\u001b[0m \u001b[1;32mnot\u001b[0m \u001b[0mhasattr\u001b[0m\u001b[1;33m(\u001b[0m\u001b[0mfp\u001b[0m\u001b[1;33m,\u001b[0m \u001b[1;34m\"seek\"\u001b[0m\u001b[1;33m)\u001b[0m\u001b[1;33m:\u001b[0m\u001b[1;33m\u001b[0m\u001b[1;33m\u001b[0m\u001b[0m\n\u001b[0;32m    863\u001b[0m         raise TypeError(\"dcmread: Expected a file path or a file-like, \"\n",
      "\u001b[1;31mFileNotFoundError\u001b[0m: [Errno 2] No such file or directory: 'path'"
     ]
    }
   ],
   "source": [
    "#Convertire file DICOM in PNG con PIL\n",
    "\n",
    "import numpy as np\n",
    "import pydicom\n",
    "from pydicom.pixel_data_handlers.util import apply_voi_lut\n",
    "from pydicom.pixel_data_handlers.util import apply_modality_lut\n",
    "from PIL import Image\n",
    "\n",
    "ds = pydicom.dcmread('path')\n",
    "\n",
    "p_arr = ds.pixel_array.astype(float)\n",
    "#array di pixel estratti dal file dicom e astype(float) per evitare problemi di overflow o underfolow \n",
    "\n",
    "mod = apply_modality_lut(p_arr, ds)\n",
    "\n",
    "voi = apply_voi_lut(mod, ds)\n",
    "\n",
    "s_arr = (np.maximum(voi, 0) / voi.max()) * 255.0\n",
    "\n",
    "s_arr = np.uint8(s_arr)\n",
    "\n",
    "#immagine prima del rescaling\n",
    "print(p_arr.dtype)\n",
    "print(p_arr.shape)\n",
    "print(p_arr)\n",
    "\n",
    "#immagine dopo il rescaling\n",
    "\n",
    "print(s_arr.dtype)\n",
    "print(s_arr.shape)\n",
    "print(s_arr)\n",
    "\n",
    "\n",
    "final_image = Image.fromarray(s_arr)\n",
    "final_image.show()\n",
    "#final_image.save('PIL.png')\n"
   ]
  },
  {
   "cell_type": "markdown",
   "id": "43a061e1",
   "metadata": {},
   "source": [
    "La grossa differenza tra le due \"strategie\" è la dimensione dei file genrati. Con PIL infatti si possono genera file più leggeri. Con matplotlib i file generati sono più pesanti ma allo stesso tempo simili a quelli presenti nella documentazione che ho ricevuto https://www.kaggle.com/kmader/x-ray-patient-scan-registration.\n",
    "\n",
    "Quale conviene seguire?\n",
    "\n",
    "Inoltre in molte immagini appartenenti al dataset sono presenti parti del corpo non necessariamente inerenti al nostro scopo. Devo tagliare le immagini in modo da analizzare soltanto il torace?"
   ]
  },
  {
   "cell_type": "code",
   "execution_count": null,
   "id": "6cb47631",
   "metadata": {},
   "outputs": [],
   "source": []
  }
 ],
 "metadata": {
  "kernelspec": {
   "display_name": "Python 3 (ipykernel)",
   "language": "python",
   "name": "python3"
  },
  "language_info": {
   "codemirror_mode": {
    "name": "ipython",
    "version": 3
   },
   "file_extension": ".py",
   "mimetype": "text/x-python",
   "name": "python",
   "nbconvert_exporter": "python",
   "pygments_lexer": "ipython3",
   "version": "3.9.1"
  }
 },
 "nbformat": 4,
 "nbformat_minor": 5
}
