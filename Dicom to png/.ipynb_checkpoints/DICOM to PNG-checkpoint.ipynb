{
 "cells": [
  {
   "cell_type": "markdown",
   "id": "6c526a41",
   "metadata": {},
   "source": [
    "## Convertire i file dicom in file png cercando di mantenere coerente la scala dei grigi.\n"
   ]
  },
  {
   "cell_type": "markdown",
   "id": "a1f68668",
   "metadata": {},
   "source": [
    "Il procedimento è molto simile in entrambi i casi, anche perché matplotlib sfrutta PIL per visualizzare le immagini.\n",
    "In sostanza si apre il file dicom con pydicom da cui si estrae il \"pixel_array\" convertendo i valori al suo interno in float, sfruttando numpy per evitare underflow o overflow durante la conversione. \n",
    "Dopo aver usato apply_modality_lut() e apply_voi_lut() è possibile eseguire la conversione riducendo il range della scala dei grigi da 16 bit a 8 bit e salvare l'immagine in png."
   ]
  },
  {
   "cell_type": "code",
   "execution_count": null,
   "id": "5b84d241",
   "metadata": {
    "scrolled": true
   },
   "outputs": [],
   "source": [
    "#Convertire file DICOM in PNG con matplotlib\n",
    "import numpy as np\n",
    "import matplotlib.pyplot as plt\n",
    "import pydicom\n",
    "from pydicom.pixel_data_handlers.util import apply_voi_lut\n",
    "from pydicom.pixel_data_handlers.util import apply_modality_lut\n",
    "\n",
    "ds= pydicom.dcmread('img2.dicom')\n",
    "\n",
    "p_arr = ds.pixel_array.astype(float) \n",
    "#array di pixel estratti dal file dicom e astype(float) per evitare problemi di overflow o underfolow \n",
    "\n",
    "mod = apply_modality_lut(p_arr, ds) \n",
    "# rende i pixel significativi indipendentemente dall'apparecchiatura usata per acquisire l'immagine\n",
    "\n",
    "voi = apply_voi_lut(mod, ds) \n",
    "# rende i pixel significativi per l'utente in base al voi \n",
    "\n",
    "s_arr = (np.maximum(voi, 0) / voi.max()) * 255.0 \n",
    "#la scala dei grigi usata nell'immagine passa da 16 a 8 bit\n",
    "\n",
    "s_arr = np.uint8(s_arr) #conversione in Unsigned Int\n",
    "\"\"\"#immagine prima del rescaling\n",
    "print(p_arr.dtype)\n",
    "print(p_arr.shape)\n",
    "print(p_arr)\n",
    "\n",
    "#immagine dopo il rescaling\n",
    "print(s_arr.dtype)\n",
    "print(s_arr.shape)\n",
    "print(s_arr)\n",
    "\"\"\"\n",
    "plt.imshow(s_arr, cmap = plt.cm.bone, vmin = 0, vmax = 255)\n",
    "#plt.imsave(\"matplotlib.png\", s_arr, cmap = plt.cm.bone, vmin = 0, vmax = 255) \n",
    "# usando \"gray\" invece di \"bone\" si rende produce un file.png più leggero ma, a mio avviso, meno leggibile"
   ]
  },
  {
   "cell_type": "code",
   "execution_count": null,
   "id": "389ef385",
   "metadata": {
    "scrolled": true
   },
   "outputs": [],
   "source": [
    "#Convertire file DICOM in PNG con PIL\n",
    "\n",
    "import numpy as np\n",
    "import pydicom\n",
    "from pydicom.pixel_data_handlers.util import apply_voi_lut\n",
    "from pydicom.pixel_data_handlers.util import apply_modality_lut\n",
    "from PIL import Image\n",
    "\n",
    "ds = pydicom.dcmread('path')\n",
    "\n",
    "p_arr = ds.pixel_array.astype(float)\n",
    "#array di pixel estratti dal file dicom e astype(float) per evitare problemi di overflow o underfolow \n",
    "\n",
    "mod = apply_modality_lut(p_arr, ds)\n",
    "\n",
    "voi = apply_voi_lut(mod, ds)\n",
    "\n",
    "s_arr = (np.maximum(voi, 0) / voi.max()) * 255.0\n",
    "\n",
    "s_arr = np.uint8(s_arr)\n",
    "\n",
    "#immagine prima del rescaling\n",
    "print(p_arr.dtype)\n",
    "print(p_arr.shape)\n",
    "print(p_arr)\n",
    "\n",
    "#immagine dopo il rescaling\n",
    "\n",
    "print(s_arr.dtype)\n",
    "print(s_arr.shape)\n",
    "print(s_arr)\n",
    "\n",
    "\n",
    "final_image = Image.fromarray(s_arr)\n",
    "final_image.show()\n",
    "#final_image.save('PIL.png')"
   ]
  },
  {
   "cell_type": "markdown",
   "id": "43a061e1",
   "metadata": {},
   "source": [
    "La grossa differenza tra le due \"strategie\" è la dimensione dei file genrati. Con PIL infatti si possono genera file più leggeri. Con matplotlib i file generati sono più pesanti ma allo stesso tempo simili a quelli presenti nella documentazione che ho ricevuto https://www.kaggle.com/kmader/x-ray-patient-scan-registration.\n",
    "\n",
    "Quale conviene seguire?\n",
    "\n",
    "Inoltre in molte immagini appartenenti al dataset sono presenti parti del corpo non necessariamente inerenti al nostro scopo. Devo tagliare le immagini in modo da analizzare soltanto il torace?"
   ]
  },
  {
   "cell_type": "code",
   "execution_count": null,
   "id": "6cb47631",
   "metadata": {},
   "outputs": [],
   "source": []
  }
 ],
 "metadata": {
  "kernelspec": {
   "display_name": "Python 3 (ipykernel)",
   "language": "python",
   "name": "python3"
  },
  "language_info": {
   "codemirror_mode": {
    "name": "ipython",
    "version": 3
   },
   "file_extension": ".py",
   "mimetype": "text/x-python",
   "name": "python",
   "nbconvert_exporter": "python",
   "pygments_lexer": "ipython3",
   "version": "3.8.10"
  }
 },
 "nbformat": 4,
 "nbformat_minor": 5
}
